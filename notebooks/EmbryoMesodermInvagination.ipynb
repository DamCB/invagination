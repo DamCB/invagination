{
 "cells": [
  {
   "cell_type": "code",
   "execution_count": 1,
   "metadata": {},
   "outputs": [],
   "source": [
    "import os\n",
    "import time\n",
    "import sys\n",
    "import json\n",
    "import numpy as np\n",
    "import ipyvolume as ipv\n",
    "from pathlib import Path\n",
    "import numpy as np\n",
    "import random\n",
    "from datetime import datetime\n",
    "\n",
    "from tyssue import Sheet, config\n",
    "from tyssue.io import hdf5\n",
    "from tyssue.generation import ellipsoid_sheet\n",
    "from tyssue.draw.ipv_draw import view_ipv\n",
    "from tyssue.draw.plt_draw import quick_edge_draw\n",
    "from tyssue.dynamics import effectors, units\n",
    "from tyssue.dynamics.sheet_gradients import height_grad\n",
    "from tyssue.dynamics.factory import model_factory\n",
    "from tyssue.solvers.sheet_vertex_solver import Solver\n",
    "from tyssue.behaviors.events import EventManager\n",
    "from tyssue.topology.sheet_topology import remove_face\n",
    "from tyssue.utils.decorators import do_undo\n",
    "from tyssue.utils import to_nd\n",
    "from tyssue.io import hdf5\n",
    "\n",
    "\n",
    "from invagination.ellipsoid import EllipsoidBGeometry as geom\n",
    "from invagination.ellipsoid import VitellineElasticity\n",
    "from invagination.delamination import (define_ovoid_mesoderm,\n",
    "                                       initiate_monitoring_process,\n",
    "                                       check_enter_in_process,\n",
    "                                       check_tri_faces,\n",
    "                                       type1_transition)\n",
    "\n",
    "from invagination.basic_plot import mesoderm_position\n",
    "\n",
    "\n",
    "import matplotlib.pyplot as plt\n",
    "\n",
    "%matplotlib inline\n",
    "\n",
    "SIM_DIR = Path('/home/admin-suz/Documents/Simulations')\n"
   ]
  },
  {
   "cell_type": "code",
   "execution_count": 2,
   "metadata": {},
   "outputs": [],
   "source": [
    "import datetime\n",
    "\n",
    "today = datetime.date.today()\n",
    "\n",
    "sim_save_dir = SIM_DIR/f'{today.isoformat()}_principal_results'\n",
    "\n",
    "try:\n",
    "    os.mkdir(sim_save_dir)\n",
    "except FileExistsError:\n",
    "    pass"
   ]
  },
  {
   "cell_type": "code",
   "execution_count": null,
   "metadata": {},
   "outputs": [],
   "source": [
    "#%pdb"
   ]
  },
  {
   "cell_type": "code",
   "execution_count": 3,
   "metadata": {},
   "outputs": [],
   "source": [
    "class RadialTension(effectors.AbstractEffector):\n",
    "    \n",
    "    dimensions = units.line_tension\n",
    "    magnitude = 'radial_tension'\n",
    "    label = 'Apical basal tension'\n",
    "    element = 'vert'\n",
    "    specs = {'vert':{'is_active',\n",
    "             'height',\n",
    "             'radial_tension'}}\n",
    "\n",
    "    @staticmethod\n",
    "    def energy(eptm):\n",
    "        return eptm.vert_df.eval(\n",
    "            'height * radial_tension * is_active')\n",
    "         \n",
    "    @staticmethod\n",
    "    def gradient(eptm):\n",
    "        grad = height_grad(eptm) * to_nd(\n",
    "            eptm.vert_df.eval('radial_tension'), 3)\n",
    "        grad.columns = ['g'+c for c in eptm.coords]\n",
    "        return grad, None\n",
    "    \n",
    "    \n",
    "EllipsoidSModel = model_factory(\n",
    "    [\n",
    "    RadialTension,\n",
    "    VitellineElasticity,\n",
    "    effectors.LineTension,\n",
    "    effectors.FaceContractility,\n",
    "    effectors.FaceVolumeElasticity,\n",
    "    ], effectors.FaceAreaElasticity)\n",
    "\n",
    "\n",
    "EllipsoidBModel = model_factory(\n",
    "    [\n",
    "    RadialTension,\n",
    "    VitellineElasticity,\n",
    "    #effectors.LineTension,\n",
    "    effectors.FaceContractility,\n",
    "    effectors.FaceAreaElasticity,\n",
    "    effectors.CellVolumeElasticity,\n",
    "    ], effectors.FaceAreaElasticity)\n",
    "\n",
    "\n",
    "model = EllipsoidBModel\n"
   ]
  },
  {
   "cell_type": "code",
   "execution_count": 4,
   "metadata": {},
   "outputs": [],
   "source": [
    "dsets = hdf5.load_datasets('../data/hf5/ellipsoid_sheet_init.hf5',\n",
    "                           data_names=['vert', 'edge', 'face', 'cell'])\n",
    "\n",
    "\n",
    "with open('../data/json/ellipsoid.json', 'r+') as fp:\n",
    "    specs = json.load(fp)\n",
    "\n",
    "sheet = Sheet('ellipse', dsets, specs)\n",
    "\n",
    "# Modify some initial value\n",
    "sheet.settings['threshold_length'] = 1e-3\n",
    "sheet.settings['vitelline_space'] = 0.2\n",
    "sheet.vert_df['radial_tension'] = 0.\n",
    "sheet.cell_df['prefered_vol'] = 4539601.384437251\n",
    "sheet.cell_df['vol_elasticity'] = 3.e-6\n",
    "\n",
    "fig, ax = quick_edge_draw(sheet, coords=list('zx'))"
   ]
  },
  {
   "cell_type": "code",
   "execution_count": 5,
   "metadata": {},
   "outputs": [],
   "source": [
    "solver_kw = {'minimize': {'method': 'L-BFGS-B',\n",
    "                          'options': {'ftol': 1e-8,\n",
    "                                      'gtol': 1e-8}}}"
   ]
  },
  {
   "cell_type": "markdown",
   "metadata": {},
   "source": [
    "## Define cells in the mesoderm"
   ]
  },
  {
   "cell_type": "code",
   "execution_count": 6,
   "metadata": {},
   "outputs": [],
   "source": [
    "# Define rectangular mesoderm\n",
    "#define_cell_in_mesoderm(sheet, 0.3, 0.7 ,0.05, 0.95)\n",
    "\n",
    "# Define ovoid mesoderm\n",
    "define_ovoid_mesoderm(sheet, 0, 0, 145, 40)\n",
    "\n",
    "mesoderm = sheet.face_df[sheet.face_df.is_mesoderm].index\n",
    "delaminating_cells = sheet.face_df[sheet.face_df['is_mesoderm']].index\n",
    "\n",
    "\n",
    "\n",
    "print('number of apoptotic cells: {}'.format(delaminating_cells.size))\n",
    "mesoderm_position(sheet, delaminating_cells)"
   ]
  },
  {
   "cell_type": "code",
   "execution_count": null,
   "metadata": {},
   "outputs": [],
   "source": []
  },
  {
   "cell_type": "markdown",
   "metadata": {},
   "source": [
    "## Processus functions"
   ]
  },
  {
   "cell_type": "code",
   "execution_count": 7,
   "metadata": {},
   "outputs": [],
   "source": [
    "import logging\n",
    "logger = logging.Logger('event_log')\n",
    "\n",
    "\n",
    "@do_undo\n",
    "def run_sim(sheet, mesoderm, geom, model, dirname, largeur_gauss, densite_proba):\n",
    "    solver = Solver\n",
    "    \n",
    "    # logger initiation\n",
    "    event_logfile = os.path.join(dirname, 'events.log')\n",
    "    hdlr = logging.FileHandler(event_logfile)\n",
    "    hdlr.setLevel('INFO')\n",
    "    logger.addHandler(hdlr)\n",
    "        \n",
    "    #Initiate manager\n",
    "    manager = EventManager('face')\n",
    "\n",
    "    \n",
    "    t=0\n",
    "    stop = 200\n",
    "    while manager.current and t < stop:\n",
    "        # Clean radial tension on all vertices\n",
    "        sheet.vert_df['radial_tension'] = 0\n",
    "        manager.execute(sheet)\n",
    "        res = solver.find_energy_min(sheet, geom, model, **solver_kw)\n",
    "        \n",
    "        # add noise on vertex position to avoid local minimal.\n",
    "        sheet.vert_df[['x', 'y']] += np.random.normal(scale=1e-3, size=(sheet.Nv, 2))\n",
    "        geom.update_all(sheet)\n",
    "\n",
    "        figname = os.path.join(\n",
    "            dirname, 'invagination_{:04d}.png'.format(t))\n",
    "        hdfname = figname[:-3]+'hf5'\n",
    "        hdf5.save_datasets(hdfname, sheet)      \n",
    "        \n",
    "        \n",
    "        # Add cells in delamination process if they are authorized\n",
    "        check_enter_in_process(sheet, manager, mesoderm, \n",
    "                                    t, largeur_gauss, densite_proba)   \n",
    "        \n",
    "        \n",
    "        # Add cells with initially 3 neighbourghs to be eliminated\n",
    "        check_tri_faces(sheet, manager)\n",
    "        # Add T1 transition for face with at least one edge shorter than critical length\n",
    "        [manager.append(type1_transition, f, kwargs=sheet.settings['T1']) for f in sheet.edge_df[\n",
    "            sheet.edge_df['length'] < sheet.settings['T1']['critical_length']]['face'].unique()]\n",
    "    \n",
    "    \n",
    "        manager.update()\n",
    "        t+=1\n",
    "        \n",
    "        \n",
    "    logger.removeHandler(hdlr)\n",
    "    return sheet\n"
   ]
  },
  {
   "cell_type": "code",
   "execution_count": null,
   "metadata": {},
   "outputs": [],
   "source": []
  },
  {
   "cell_type": "code",
   "execution_count": null,
   "metadata": {
    "scrolled": true
   },
   "outputs": [],
   "source": []
  },
  {
   "cell_type": "code",
   "execution_count": 8,
   "metadata": {},
   "outputs": [],
   "source": [
    "def delamination_process(sheet, contractility_rate, critical_area, \n",
    "                         radial_tension, largeur_gauss, densite_proba, nb_iteraction_max):\n",
    "\n",
    "    # Directory definition \n",
    "    dirname = '{}_contractility_{}_critical_area_{}_radialtension'.format(\n",
    "                contractility_rate, critical_area, radial_tension)\n",
    "    dirname = os.path.join(sim_save_dir, dirname)\n",
    "    \n",
    "    print('starting {}'.format(dirname))\n",
    "    try:\n",
    "        os.mkdir(dirname)\n",
    "    except IOError:\n",
    "        pass\n",
    "    \n",
    "    settings = {'contract_rate': contractility_rate,\n",
    "            'critical_area': critical_area,\n",
    "            'radial_tension': radial_tension,\n",
    "            'nb_iteration':0,\n",
    "            'nb_iteration_max':nb_iteraction_max,\n",
    "            'contract_neighbors':True,\n",
    "            'critical_area_neighbors':10,\n",
    "            'geom': geom}\n",
    "\n",
    "    solver = Solver\n",
    "    \n",
    "    # Add some information to the sheet\n",
    "    sheet2 = sheet.copy(deep_copy=True)\n",
    "    \n",
    "    sheet2.face_df['id'] = sheet2.face_df.index.values\n",
    "    sheet2.settings['delamination'] = settings\n",
    "    \n",
    "    settings2 = {'critical_length':0.3}\n",
    "    sheet2.settings['T1'] = settings2\n",
    "    #\"\"\" Initiale find minimal energy\n",
    "    # To be sure we are at the equilibrium\n",
    "    res = solver.find_energy_min(sheet2, geom, model, **solver_kw)\n",
    "   \n",
    "    sheet2 = run_sim(sheet2, delaminating_cells, geom, model, dirname, largeur_gauss, densite_proba)\n",
    "\n",
    "    print('{} done'.format(dirname))\n",
    "    print('~~~~~~~~~~~~~~~~~~~~~\\n')\n",
    "    "
   ]
  },
  {
   "cell_type": "code",
   "execution_count": null,
   "metadata": {},
   "outputs": [],
   "source": []
  },
  {
   "cell_type": "markdown",
   "metadata": {},
   "source": [
    "## Sequential execution "
   ]
  },
  {
   "cell_type": "code",
   "execution_count": 9,
   "metadata": {
    "scrolled": true
   },
   "outputs": [],
   "source": [
    "from datetime import datetime\n",
    "\n",
    "global_start=datetime.now()\n",
    "print (\"start : \" + str(global_start))\n",
    "\n",
    "length_gauss = 13\n",
    "n = 2\n",
    "nb_iter = 30\n",
    "critical_area = 5\n",
    "\n",
    "radial_tension = [0, 25, 50, 75, 100]\n",
    "contractility_percent = [4, 8, 16, 32, 64]\n",
    "contractility_rate = [1+c/100 for c in contractility_percent]\n",
    "\n",
    "for rad in radial_tension:\n",
    "    for contracts in contractility_rate:\n",
    "        print ('rad : ' + str(rad)+ '\\tcontract : ' + str(contracts))\n",
    "        delamination_process(sheet, contracts, critical_area, rad, length_gauss,n , nb_iter)\n",
    "\n",
    "global_end = datetime.now()\n",
    "print (\"end : \" + str(global_end))\n",
    "print ('Duree totale d execution : \\n\\t\\t')\n",
    "print (global_end-global_start)"
   ]
  },
  {
   "cell_type": "markdown",
   "metadata": {},
   "source": [
    "## Parallel execution"
   ]
  },
  {
   "cell_type": "code",
   "execution_count": null,
   "metadata": {
    "scrolled": true
   },
   "outputs": [],
   "source": [
    "\n",
    "from joblib import Parallel, delayed\n",
    "import multiprocessing\n",
    "from datetime import datetime\n",
    "\n",
    "global_start=datetime.now()\n",
    "print (\"start : \" + str(global_start))\n",
    "num_cores = multiprocessing.cpu_count()\n",
    "\n",
    "length_gauss = 17\n",
    "n = 2\n",
    "nb_iter = 30\n",
    "critical_area = 5\n",
    "\n",
    "radial_tension = [100]\n",
    "contractility_percent = [ 32, 64, 8, 16,]\n",
    "contractility_rate = [1+c/100 for c in contractility_percent]\n",
    "\n",
    "\n",
    "contractility_rate, radial_tension = np.meshgrid(contractility_rate, radial_tension)\n",
    "\n",
    "results = Parallel(n_jobs=2)(delayed(delamination_process)(\n",
    "    sheet, c, critical_area, r, length_gauss,n , nb_iter) for c, r in zip(contractility_rate.ravel(), radial_tension.ravel()))\n",
    "\n",
    "global_end = datetime.now()\n",
    "print (\"end : \" + str(global_end))\n",
    "print ('Duree totale d execution : \\n\\t\\t')\n",
    "print (global_end-global_start)\n"
   ]
  },
  {
   "cell_type": "code",
   "execution_count": null,
   "metadata": {},
   "outputs": [],
   "source": []
  },
  {
   "cell_type": "code",
   "execution_count": null,
   "metadata": {},
   "outputs": [],
   "source": []
  },
  {
   "cell_type": "code",
   "execution_count": null,
   "metadata": {},
   "outputs": [],
   "source": []
  },
  {
   "cell_type": "code",
   "execution_count": null,
   "metadata": {},
   "outputs": [],
   "source": []
  },
  {
   "cell_type": "code",
   "execution_count": null,
   "metadata": {},
   "outputs": [],
   "source": []
  },
  {
   "cell_type": "code",
   "execution_count": null,
   "metadata": {},
   "outputs": [],
   "source": []
  },
  {
   "cell_type": "code",
   "execution_count": null,
   "metadata": {},
   "outputs": [],
   "source": []
  },
  {
   "cell_type": "code",
   "execution_count": null,
   "metadata": {},
   "outputs": [],
   "source": []
  },
  {
   "cell_type": "code",
   "execution_count": null,
   "metadata": {},
   "outputs": [],
   "source": []
  },
  {
   "cell_type": "code",
   "execution_count": null,
   "metadata": {},
   "outputs": [],
   "source": []
  }
 ],
 "metadata": {
  "anaconda-cloud": {},
  "kernelspec": {
   "display_name": "Python 3",
   "language": "python",
   "name": "python3"
  },
  "language_info": {
   "codemirror_mode": {
    "name": "ipython",
    "version": 3
   },
   "file_extension": ".py",
   "mimetype": "text/x-python",
   "name": "python",
   "nbconvert_exporter": "python",
   "pygments_lexer": "ipython3",
   "version": "3.6.3"
  },
  "widgets": {
   "state": {
    "8183ffe4462f409db908350a706d48c5": {
     "views": [
      {
       "cell_index": 21
      }
     ]
    }
   },
   "version": "1.2.0"
  }
 },
 "nbformat": 4,
 "nbformat_minor": 1
}
