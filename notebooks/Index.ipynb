{
 "cells": [
  {
   "cell_type": "markdown",
   "metadata": {},
   "source": [
    "## Notebooks from Mechanical impact of epithelial-mesenchymal transition on epithelial morphogenesis in Drosophila\n",
    "\n",
    "\n",
    "Mélanie Gracia<sup>1</sup> , Sophie Theis<sup>1,2</sup> , Amsha Proag<sup>1</sup> , Guillaume Gay<sup>*2</sup> , Corinne Benassayag<sup>*1</sup> , and Magali Suzanne<sup>*1</sup>\n",
    "\n",
    "1 LBCMCP, Centre de Biologie Intégrative (CBI), Université de Toulouse, CNRS, UPS, France \n",
    "\n",
    "2 Morphogénie Logiciels, 32110 St Martin d’Armagnac, France\n",
    "\n",
    "* co-corresponding authors\n",
    "\n",
    "Correspondence: magali.suzanne@univ-tlse3.fr; corinne.ben-assayag@univ-tlse3.fr; guillaume@damcb.com;\n",
    "\n",
    "\n",
    "\n",
    "[Simulations_Ablations](https://github.com/suzannelab/invagination/blob/master/notebooks/Simulations_Ablations.ipynb) contains simulations in figure 9 and Supplementary figure S6. It reproduces experiments made in drosophila in vivo embryo in figure 6 and Supplementary figure S3.\n",
    "\n",
    "[Simulations_FiguresPrincipale](https://github.com/suzannelab/invagination/blob/master/notebooks/Simulations_FiguresPrincipale.ipynb) contains simulations in figure 7-8 and Supplementary figure S4 pannel c and d.\n",
    "\n",
    "[Simulations_GaussianWidthTest](https://github.com/suzannelab/invagination/blob/master/notebooks/Simulations_GaussianWidthTest.ipynb) contains simulations in Supplementary figure S4 pannel b. It tests differents values of width to the profile of apical constriction rate. \n",
    "\n",
    "[Simulations_YolkElasticity](https://github.com/suzannelab/invagination/blob/master/notebooks/Simulations_YolkElasticity.ipynb) contains simulations in Supplementary figure S4 pannel a. It tests differents value of yolk compression. \n",
    "\n",
    "[SmallEllipsoidInvagination](https://github.com/suzannelab/invagination/blob/master/notebooks/SmallEllipsoidInvagination.ipynb) contains a small ellipsoid to run simulation in a small number of cells. \n",
    "\n",
    "\n"
   ]
  },
  {
   "cell_type": "code",
   "execution_count": null,
   "metadata": {},
   "outputs": [],
   "source": []
  },
  {
   "cell_type": "code",
   "execution_count": null,
   "metadata": {},
   "outputs": [],
   "source": []
  }
 ],
 "metadata": {
  "kernelspec": {
   "display_name": "Python 3",
   "language": "python",
   "name": "python3"
  },
  "language_info": {
   "codemirror_mode": {
    "name": "ipython",
    "version": 3
   },
   "file_extension": ".py",
   "mimetype": "text/x-python",
   "name": "python",
   "nbconvert_exporter": "python",
   "pygments_lexer": "ipython3",
   "version": "3.6.3"
  }
 },
 "nbformat": 4,
 "nbformat_minor": 2
}
