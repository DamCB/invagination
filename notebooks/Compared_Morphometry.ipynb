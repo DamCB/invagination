{
 "cells": [
  {
   "cell_type": "code",
   "execution_count": 1,
   "metadata": {},
   "outputs": [],
   "source": [
    "import os\n",
    "import numpy as np\n",
    "import pandas as pd\n",
    "import matplotlib.pyplot as plt\n",
    "from pathlib import Path\n",
    "\n",
    "from invagination.morphometry import (parse_ply, \n",
    "                                      get_borders, \n",
    "                                      get_morphometry,\n",
    "                                      get_ventral_patch,\n",
    "                                      analyse,\n",
    "                                      grided_graph,\n",
    "                                      color_plot_silico,\n",
    "                                      color_plot_vivo)\n"
   ]
  },
  {
   "cell_type": "code",
   "execution_count": 5,
   "metadata": {},
   "outputs": [
    {
     "name": "stdout",
     "output_type": "stream",
     "text": [
      "Data sub-directories:\n",
      "\t\n",
      "\t20161108\n",
      "\t20170519\n",
      "\t20170531\n",
      "----------\n"
     ]
    },
    {
     "ename": "IndexError",
     "evalue": "list index out of range",
     "output_type": "error",
     "traceback": [
      "\u001b[0;31m---------------------------------------------------------------------------\u001b[0m",
      "\u001b[0;31mIndexError\u001b[0m                                Traceback (most recent call last)",
      "\u001b[0;32m<ipython-input-5-42ea3b92bd62>\u001b[0m in \u001b[0;36m<module>\u001b[0;34m()\u001b[0m\n\u001b[1;32m      9\u001b[0m     \u001b[0;32mif\u001b[0m \u001b[0;32mnot\u001b[0m \u001b[0mtree\u001b[0m\u001b[0;34m[\u001b[0m\u001b[0;36m1\u001b[0m\u001b[0;34m]\u001b[0m\u001b[0;34m:\u001b[0m \u001b[0;31m# only dir without subdirs\u001b[0m\u001b[0;34m\u001b[0m\u001b[0m\n\u001b[1;32m     10\u001b[0m         \u001b[0mdata_dirs\u001b[0m\u001b[0;34m.\u001b[0m\u001b[0mappend\u001b[0m\u001b[0;34m(\u001b[0m\u001b[0;34m(\u001b[0m\u001b[0mPath\u001b[0m\u001b[0;34m(\u001b[0m\u001b[0mtree\u001b[0m\u001b[0;34m[\u001b[0m\u001b[0;36m0\u001b[0m\u001b[0;34m]\u001b[0m\u001b[0;34m)\u001b[0m\u001b[0;34m,\u001b[0m \u001b[0mtree\u001b[0m\u001b[0;34m[\u001b[0m\u001b[0;34m-\u001b[0m\u001b[0;36m1\u001b[0m\u001b[0;34m]\u001b[0m\u001b[0;34m)\u001b[0m\u001b[0;34m)\u001b[0m\u001b[0;34m\u001b[0m\u001b[0m\n\u001b[0;32m---> 11\u001b[0;31m \u001b[0mdata_dir\u001b[0m \u001b[0;34m=\u001b[0m \u001b[0mdata_dirs\u001b[0m\u001b[0;34m[\u001b[0m\u001b[0;36m3\u001b[0m\u001b[0;34m]\u001b[0m\u001b[0;34m[\u001b[0m\u001b[0;36m0\u001b[0m\u001b[0;34m]\u001b[0m\u001b[0;34m\u001b[0m\u001b[0m\n\u001b[0m\u001b[1;32m     12\u001b[0m \u001b[0mdata_files\u001b[0m \u001b[0;34m=\u001b[0m \u001b[0;34m[\u001b[0m\u001b[0mf\u001b[0m \u001b[0;32mfor\u001b[0m \u001b[0mf\u001b[0m \u001b[0;32min\u001b[0m \u001b[0mdata_dirs\u001b[0m\u001b[0;34m[\u001b[0m\u001b[0;36m3\u001b[0m\u001b[0;34m]\u001b[0m\u001b[0;34m[\u001b[0m\u001b[0;36m1\u001b[0m\u001b[0;34m]\u001b[0m \u001b[0;32mif\u001b[0m \u001b[0mf\u001b[0m\u001b[0;34m.\u001b[0m\u001b[0mendswith\u001b[0m\u001b[0;34m(\u001b[0m\u001b[0;34m'.ply'\u001b[0m\u001b[0;34m)\u001b[0m\u001b[0;34m]\u001b[0m\u001b[0;34m\u001b[0m\u001b[0m\n\u001b[1;32m     13\u001b[0m \u001b[0mprint\u001b[0m\u001b[0;34m(\u001b[0m\u001b[0;34m'Data directory:'\u001b[0m\u001b[0;34m)\u001b[0m\u001b[0;34m\u001b[0m\u001b[0m\n",
      "\u001b[0;31mIndexError\u001b[0m: list index out of range"
     ]
    }
   ],
   "source": [
    "base_dir = Path('/media/data/Sophie/Analyses/20180328')\n",
    "base_dir = '/media/admin-suz/Sophie/2018/Papiers-EMT-Melanie/datas/MorphographX/EmbryonsInVivo'\n",
    "\n",
    "print('Data sub-directories:')\n",
    "print('\\t', *os.listdir(base_dir), sep='\\n\\t')\n",
    "print('----------')\n",
    "data_dirs = []\n",
    "for tree in os.walk(base_dir):\n",
    "    if not tree[1]: # only dir without subdirs\n",
    "        data_dirs.append((Path(tree[0]), tree[-1]))\n",
    "data_dir = data_dirs[3][0]\n",
    "data_files = [f for f in data_dirs[3][1] if f.endswith('.ply')]\n",
    "print('Data directory:')\n",
    "print(data_dir)\n",
    "\n",
    "print('\\t', *data_files, sep='\\n\\t')\n",
    "\n"
   ]
  },
  {
   "cell_type": "code",
   "execution_count": null,
   "metadata": {},
   "outputs": [],
   "source": []
  },
  {
   "cell_type": "code",
   "execution_count": 3,
   "metadata": {
    "scrolled": true
   },
   "outputs": [],
   "source": [
    "collected_vivo = {}\n",
    "\n",
    "for data_dir in data_dirs:\n",
    "    print(f'Treating {data_dir[0]}')\n",
    "    figures, axes = None, None\n",
    "    plys = [f for f in data_dir[1] if f.endswith('.ply')]\n",
    "    for data_file in plys:\n",
    "        basename = '_'.join((data_dir[0].parent.stem.replace(' ', ''),\n",
    "                             Path(plys[0]).stem))\n",
    "        try:\n",
    "            centers, figures, axes = analyse(data_dir[0], data_file,\n",
    "                                             basename=basename,\n",
    "                                             figures=figures, \n",
    "                                             axes=axes,\n",
    "                                             show=True,\n",
    "                                             save=True)\n",
    "            collected_vivo[basename] = centers\n",
    "        except Exception as e:\n",
    "            print(f'Failed for {basename}')\n",
    "            print(type(e))\n",
    "            print(e)\n",
    "\n",
    "    plt.close('all')"
   ]
  },
  {
   "cell_type": "code",
   "execution_count": null,
   "metadata": {},
   "outputs": [],
   "source": [
    "with open(data_dir[0]/plys[0], 'r+') as fh:\n",
    "    datasets = parse_ply(fh, read_faces=True)\n",
    "\n",
    "borders = get_borders(datasets)\n",
    "centers = get_morphometry(borders)"
   ]
  },
  {
   "cell_type": "code",
   "execution_count": null,
   "metadata": {},
   "outputs": [],
   "source": [
    "fig, ax = color_plot_vivo(datasets, centers, 'area', ax=None, coords='yx')\n",
    "fig.set_size_inches(12, 6)"
   ]
  },
  {
   "cell_type": "markdown",
   "metadata": {},
   "source": [
    "## Morphometry from simulation\n"
   ]
  },
  {
   "cell_type": "code",
   "execution_count": null,
   "metadata": {},
   "outputs": [],
   "source": [
    "from tyssue import Sheet, SheetGeometry, config\n",
    "from tyssue.io import hdf5\n",
    "from tyssue.draw.plt_draw import quick_edge_draw, sheet_view\n",
    "\n",
    "n_delaminated = [0, 10, 60, 175]\n",
    "\n",
    "sim_data_dirs = Path('/media/data/Sophie/Simulations/')\n",
    "hf5s = {}\n",
    "for data_dir in os.walk(sim_data_dirs) :\n",
    "    stores = [f for f in data_dir[2] if f.endswith('hf5')]\n",
    "    stores.sort()\n",
    "    csvs = [f for f in data_dir[2] if f.endswith('csv')]\n",
    "    if len(stores):\n",
    "\n",
    "        times = pd.read_csv(Path(data_dir[0])/csvs[0], index_col=0)['end']\n",
    "        times = times[times > 0].sort_values().astype(int)\n",
    "        time_index = times.iloc[n_delaminated]\n",
    "        \n",
    "        hf5names = [stores[0]]\n",
    "        hf5names.extend([stores[t] for t in time_index])\n",
    "        hf5s[data_dir[0]] = hf5names\n"
   ]
  },
  {
   "cell_type": "code",
   "execution_count": null,
   "metadata": {},
   "outputs": [],
   "source": [
    "dir0, dir1 = hf5s\n",
    "hf5s[dir0], hf5s[dir1]"
   ]
  },
  {
   "cell_type": "code",
   "execution_count": null,
   "metadata": {},
   "outputs": [],
   "source": [
    "fname = Path(dir0)/hf5s[dir0][1]\n",
    "sheet = get_ventral_patch(fname)\n",
    "sim_borders = sheet.upcast_srce(sheet.vert_df[sheet.coords])\n",
    "sim_borders['label'] = sheet.edge_df['face']\n",
    "sim_centers = get_morphometry(sim_borders)"
   ]
  },
  {
   "cell_type": "code",
   "execution_count": null,
   "metadata": {},
   "outputs": [],
   "source": [
    "dir0\n"
   ]
  },
  {
   "cell_type": "code",
   "execution_count": null,
   "metadata": {},
   "outputs": [],
   "source": []
  },
  {
   "cell_type": "code",
   "execution_count": null,
   "metadata": {
    "scrolled": true
   },
   "outputs": [],
   "source": [
    "collected_silico = {}\n",
    "for base_dir, stores in hf5s.items():\n",
    "    base_dir = Path(base_dir)\n",
    "    print(f'Treating {base_dir.as_posix()}')\n",
    "    for store in stores:\n",
    "        basename = '_'.join((base_dir.stem, Path(store).stem))\n",
    "        centers, figures, axes = analyse(base_dir, store,\n",
    "                                         basename=basename,\n",
    "                                         figures=None, \n",
    "                                         axes=None,\n",
    "                                         show=True,\n",
    "                                         save=True)\n",
    "        collected_silico[basename] = centers\n",
    "    plt.close('all')"
   ]
  },
  {
   "cell_type": "code",
   "execution_count": null,
   "metadata": {},
   "outputs": [],
   "source": [
    "print(*collected_silico.keys(), sep='\\n')"
   ]
  },
  {
   "cell_type": "code",
   "execution_count": null,
   "metadata": {},
   "outputs": [],
   "source": [
    "print(*collected_vivo.keys(), sep='\\n')"
   ]
  },
  {
   "cell_type": "code",
   "execution_count": null,
   "metadata": {},
   "outputs": [],
   "source": [
    "centers = collected_silico['propagation_1_invagination_0000']"
   ]
  },
  {
   "cell_type": "code",
   "execution_count": null,
   "metadata": {},
   "outputs": [],
   "source": [
    "centers = collected_vivo['20170519-embPHmcherry3_20170519_T65']"
   ]
  },
  {
   "cell_type": "code",
   "execution_count": null,
   "metadata": {},
   "outputs": [],
   "source": [
    "centers.head()"
   ]
  },
  {
   "cell_type": "code",
   "execution_count": null,
   "metadata": {},
   "outputs": [],
   "source": [
    "fig, ax = plt.subplots()\n",
    "\n",
    "rol.sort_values('x', inplace=True)\n",
    "ax.scatter(centers.x - centers.x.mean(), centers.area, alpha=0.1)\n"
   ]
  },
  {
   "cell_type": "code",
   "execution_count": null,
   "metadata": {},
   "outputs": [],
   "source": [
    "\n"
   ]
  },
  {
   "cell_type": "code",
   "execution_count": null,
   "metadata": {},
   "outputs": [],
   "source": [
    "fig, ax = plt.subplots()\n",
    "rol = centers[['x', 'area']].sort_values('x').rolling(window=20)\n",
    "ax.plot(centers.x - centers.x.mean(), centers.area, 'o')\n",
    "ax.plot(rol.x.mean() - centers.x.mean(), rol.area.mean())\n",
    "ax.fill_between(rol.x.mean() - centers.x.mean(), \n",
    "                rol.area.mean()+rol.area.std(),\n",
    "                rol.area.mean()-rol.area.std(), \n",
    "                color='k', alpha=0.2)\n"
   ]
  },
  {
   "cell_type": "code",
   "execution_count": null,
   "metadata": {},
   "outputs": [],
   "source": [
    "rollings_vivo = {name: centers.sort_values('x').rolling(window=20)\n",
    "                 for name, centers in collected_vivo.items()}\n",
    "\n",
    "rollings_silico = {name: centers.sort_values('x').rolling(window=20)\n",
    "                   for name, centers in collected_silico.items()}\n",
    "    \n"
   ]
  },
  {
   "cell_type": "code",
   "execution_count": null,
   "metadata": {},
   "outputs": [],
   "source": [
    "print(*rollings_silico.keys(), sep='\\n')"
   ]
  },
  {
   "cell_type": "code",
   "execution_count": null,
   "metadata": {},
   "outputs": [],
   "source": [
    "print(*rollings_vivo.keys(), sep='\\n')"
   ]
  },
  {
   "cell_type": "code",
   "execution_count": null,
   "metadata": {},
   "outputs": [],
   "source": [
    "norm = True, False, False\n",
    "for col, norm in zip(['area', 'ar', 'orient'], norm):\n",
    "\n",
    "    fig, (ax_vivo, ax_silico) = plt.subplots(1, 2, sharex=True, sharey=True)\n",
    "    for name, rol in rollings_vivo.items():\n",
    "        time = name.split('T')[1][:3]\n",
    "        if norm:\n",
    "            y = rol[col].mean()/rol[col].mean().mean()\n",
    "        else:\n",
    "            y = rol[col].mean()\n",
    "        ax_vivo.plot(rol.x.mean(), y,\n",
    "                     label=time, alpha=0.8)\n",
    "\n",
    "    for name, rol in rollings_silico.items():\n",
    "        time = name.split('_')[-1][-3:]\n",
    "        if norm:\n",
    "            y = rol[col].mean()/rol[col].mean().mean()\n",
    "        else:\n",
    "            y = rol[col].mean()\n",
    "        if col == 'ar':\n",
    "            y = y.clip(upper=2.5)\n",
    "        ax_silico.plot(rol.x.mean(), y, '--',\n",
    "                       label=time, alpha=0.8)\n",
    "\n",
    "    ax_silico.legend()\n",
    "    ax_vivo.legend()\n",
    "    ax_vivo.set_ylabel(col)\n",
    "    plt.savefig(f'{col}_profiles.svg')\n",
    "    fig.set_size_inches(12, 6)"
   ]
  },
  {
   "cell_type": "code",
   "execution_count": null,
   "metadata": {},
   "outputs": [],
   "source": [
    "from scipy.stats import kde"
   ]
  },
  {
   "cell_type": "code",
   "execution_count": null,
   "metadata": {},
   "outputs": [],
   "source": [
    "area_kde = kde.gaussian_kde(centers[['x', 'area']].T)"
   ]
  },
  {
   "cell_type": "code",
   "execution_count": null,
   "metadata": {},
   "outputs": [],
   "source": [
    "n, xbins, ybins = np.histogram2d(centers['x'], centers['area'])"
   ]
  },
  {
   "cell_type": "code",
   "execution_count": null,
   "metadata": {},
   "outputs": [],
   "source": []
  },
  {
   "cell_type": "code",
   "execution_count": null,
   "metadata": {},
   "outputs": [],
   "source": []
  },
  {
   "cell_type": "code",
   "execution_count": null,
   "metadata": {},
   "outputs": [],
   "source": [
    "h = centers.plot.hexbin('x', 'area', gridsize=20)"
   ]
  },
  {
   "cell_type": "code",
   "execution_count": null,
   "metadata": {},
   "outputs": [],
   "source": [
    "xx, aa = np.meshgrid(np.linspace(-50, 50, 128), np.linspace(10, 40, 128))\n",
    "\n",
    "grid = np.vstack([xx.ravel(), aa.ravel()])"
   ]
  },
  {
   "cell_type": "code",
   "execution_count": null,
   "metadata": {},
   "outputs": [],
   "source": [
    "kde_plane = area_kde.evaluate(grid)"
   ]
  },
  {
   "cell_type": "code",
   "execution_count": null,
   "metadata": {},
   "outputs": [],
   "source": [
    "max_area_idx = kde_plane.reshape((128, 128)).argmax(axis=0)"
   ]
  },
  {
   "cell_type": "code",
   "execution_count": null,
   "metadata": {},
   "outputs": [],
   "source": [
    "max_areas =  np.linspace(10, 40, 128).take(max_area_idx)"
   ]
  },
  {
   "cell_type": "code",
   "execution_count": null,
   "metadata": {},
   "outputs": [],
   "source": [
    "fig, ax = plt.subplots()\n",
    "ax.imshow(kde_plane.reshape((128, 128)))"
   ]
  },
  {
   "cell_type": "code",
   "execution_count": null,
   "metadata": {},
   "outputs": [],
   "source": [
    "\n",
    "from scipy.interpolate import splrep, splev"
   ]
  },
  {
   "cell_type": "code",
   "execution_count": null,
   "metadata": {},
   "outputs": [],
   "source": [
    "centers.sort_values('x', inplace=True)"
   ]
  },
  {
   "cell_type": "code",
   "execution_count": null,
   "metadata": {},
   "outputs": [],
   "source": [
    "fig, ax = plt.subplots()\n",
    "rol = centers.rolling(20).mean()\n",
    "\n",
    "rol.sort_values('x', inplace=True)\n",
    "ax.scatter(centers.x, centers.area, alpha=0.1)\n",
    "ax.plot(rol.x, rol.area)\n",
    "\n",
    "tck = splrep(centers['x'].values, \n",
    "             centers['area'].values,\n",
    "             s=centers['area'].values.shape[0]*40)\n",
    "\n",
    "xs = np.linspace(-45, 45, 100)\n",
    "ax.plot(xs, splev(xs, tck))\n"
   ]
  },
  {
   "cell_type": "code",
   "execution_count": null,
   "metadata": {},
   "outputs": [],
   "source": [
    "rol"
   ]
  },
  {
   "cell_type": "code",
   "execution_count": null,
   "metadata": {},
   "outputs": [],
   "source": []
  },
  {
   "cell_type": "markdown",
   "metadata": {},
   "source": [
    "## ply data structure details"
   ]
  },
  {
   "cell_type": "code",
   "execution_count": null,
   "metadata": {},
   "outputs": [],
   "source": [
    "with open(data_dirs[0][0]/'20161108_T10.ply', 'r+') as fh:\n",
    "    datasets = parse_ply(fh, read_faces=True)\n",
    "\n",
    "fig, ax = plt.subplots()\n",
    "datasets['background'] = datasets['vert'][datasets['vert'].label == 0]\n",
    "datasets['membrane'] = datasets['vert'][datasets['vert'].label == -1]\n",
    "\n",
    "f_527 = datasets[\"face\"][datasets[\"face\"].label==527]\n",
    "v_527 = datasets['vert'].loc[set(f_527[[\"v0\", \"v1\", \"v2\"]].values.ravel())]\n",
    "\n",
    "ax.triplot(datasets['vert'].x,\n",
    "           datasets['vert'].y, \n",
    "           triangles=f_527[['v0', 'v1', 'v2']],\n",
    "           lw=0.2)\n",
    "\n",
    "ax.scatter(v_527.x[v_527.label < 0], \n",
    "           v_527.y[v_527.label < 0],\n",
    "           color='r', marker='o', s=1)\n",
    "\n",
    "ax.scatter(datasets['background'].x, \n",
    "           datasets['background'].y,\n",
    "           color='k', marker='.', s=1)\n",
    "\n",
    "ax.scatter(datasets['membrane'].x, \n",
    "           datasets['membrane'].y,\n",
    "           color='g', marker='.', s=1)\n",
    "\n",
    "ax.set_aspect('equal')\n",
    "#ax.set(aspect='equal',\n",
    "#       xlim=(-50, -30),\n",
    "#       ylim=(-50, -30), )\n",
    "fig.set_size_inches(12, 12)\n"
   ]
  },
  {
   "cell_type": "markdown",
   "metadata": {},
   "source": [
    "#### Reconstruct sheet from data"
   ]
  },
  {
   "cell_type": "code",
   "execution_count": null,
   "metadata": {},
   "outputs": [],
   "source": [
    "f0 = borders[borders.label==12]\n",
    "f1 = borders[borders.label==580]\n",
    "e01 = borders[borders.neigh == frozenset((12, 580))]\n",
    "fig, ax = plt.subplots()\n",
    "ax.plot(f0.x, f0.y)\n",
    "ax.plot(f0.x.iloc[0], f0.y.iloc[0], 'ko')\n",
    "ax.plot(f1.x, f1.y)\n",
    "ax.plot(f1.x.iloc[0], f1.y.iloc[0], 'ro')\n",
    "\n",
    "ax.plot(e01.x, e01.y, '-+')\n",
    "ax.set_aspect('equal')\n",
    "\n",
    "fig.set_size_inches(10, 10)"
   ]
  },
  {
   "cell_type": "code",
   "execution_count": null,
   "metadata": {},
   "outputs": [],
   "source": [
    "neighbour_faces = borders.groupby('vert').apply(\n",
    "    lambda df: frozenset(df.label.values.astype(int)))\n",
    "neighbour_faces.name = 'neigh'\n",
    "neighbour_faces.sort_index(inplace=True)\n",
    "\n",
    "borders['neigh'] = neighbour_faces.loc[borders.vert].values"
   ]
  },
  {
   "cell_type": "code",
   "execution_count": null,
   "metadata": {},
   "outputs": [],
   "source": [
    "def _align(verts):\n",
    "    centered = (verts[coords].values -\n",
    "            verts[coords].mean(axis=0).values[np.newaxis, :])\n",
    "    u, s, v = np.linalg.svd(centered,\n",
    "                            full_matrices=False,\n",
    "                            compute_uv=True)\n",
    "\n",
    "    aligned = centered @ v.T\n",
    "    aligned = pd.DataFrame(aligned,\n",
    "                           index=verts.index,\n",
    "                           columns=['r'+c for c in coords])\n",
    "    return aligned\n",
    "\n",
    "aligned = borders.groupby('label').apply(_align)\n",
    "borders = pd.concat([borders, aligned], axis=1)\n",
    "borders['theta'] = np.arctan2(borders.rx, borders.ry)\n",
    "borders = borders.sort_values(['label', 'theta']).reset_index()"
   ]
  },
  {
   "cell_type": "code",
   "execution_count": null,
   "metadata": {},
   "outputs": [],
   "source": [
    "from tyssue import Sheet, SheetGeometry, config\n",
    "from tyssue.draw.plt_draw import quick_edge_draw\n",
    "\n",
    "\n",
    "\n",
    "def _get_edge_indices(df):\n",
    "    srtd = df.sort_values('theta')\n",
    "    return pd.Series({'face': srtd.label.iloc[0],\n",
    "                      'srce': srtd.vert.iloc[0],\n",
    "                      'trgt': srtd.vert.iloc[-1]})\n",
    "\n",
    "edge_df = borders.groupby(['label', 'neigh']).apply(_get_edge_indices).reset_index()\n",
    "edge_df = edge_df[edge_df.neigh.apply(len) < 3] \n",
    "face_df = centers.loc[edge_df.label.unique()].copy()\n",
    "vert_df = datasets['vert'].loc[set(edge_df[['srce', 'trgt']].values.ravel())].copy()\n",
    "\n",
    "\n",
    "\n",
    "ty_datasets = {'vert': vert_df, 'face': face_df, 'edge': edge_df}\n",
    "\n",
    "sheet = Sheet('from_ply', ty_datasets, config.geometry.flat_sheet())\n",
    "sheet.reset_index()\n",
    "sheet.reset_topo()\n",
    "SheetGeometry.update_all(sheet)\n",
    "\n",
    "to_flip = sheet.edge_df[sheet.edge_df['sub_vol'] < 0].index\n",
    "sheet.edge_df.loc[to_flip, ['srce', 'trgt']] = sheet.edge_df.loc[to_flip, ['trgt', 'srce']]\n",
    "\n",
    "SheetGeometry.update_all(sheet)\n",
    "\n",
    "fig, ax = quick_edge_draw(sheet)\n",
    "plt.savefig('extracted.svg')"
   ]
  },
  {
   "cell_type": "code",
   "execution_count": null,
   "metadata": {},
   "outputs": [],
   "source": [
    "os.path.isdir()"
   ]
  }
 ],
 "metadata": {
  "kernelspec": {
   "display_name": "Python 3",
   "language": "python",
   "name": "python3"
  },
  "language_info": {
   "codemirror_mode": {
    "name": "ipython",
    "version": 3
   },
   "file_extension": ".py",
   "mimetype": "text/x-python",
   "name": "python",
   "nbconvert_exporter": "python",
   "pygments_lexer": "ipython3",
   "version": "3.6.3"
  }
 },
 "nbformat": 4,
 "nbformat_minor": 2
}
