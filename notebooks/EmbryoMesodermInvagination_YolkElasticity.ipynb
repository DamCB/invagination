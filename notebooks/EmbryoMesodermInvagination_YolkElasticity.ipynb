{
 "cells": [
  {
   "cell_type": "code",
   "execution_count": 1,
   "metadata": {},
   "outputs": [],
   "source": [
    "import os\n",
    "import time\n",
    "import sys\n",
    "import json\n",
    "import numpy as np\n",
    "import ipyvolume as ipv\n",
    "from pathlib import Path\n",
    "import numpy as np\n",
    "import random\n",
    "from datetime import datetime\n",
    "\n",
    "from tyssue import Sheet, config\n",
    "from tyssue.io import hdf5\n",
    "from tyssue.generation import ellipsoid_sheet\n",
    "from tyssue.draw.ipv_draw import view_ipv\n",
    "\n",
    "from tyssue.solvers.sheet_vertex_solver import Solver\n",
    "import matplotlib.pyplot as plt\n",
    "\n",
    "%matplotlib inline\n",
    "\n",
    "SIM_DIR = Path('/home/admin-suz/Documents/Simulations')\n"
   ]
  },
  {
   "cell_type": "code",
   "execution_count": 2,
   "metadata": {},
   "outputs": [],
   "source": [
    "import datetime\n",
    "\n",
    "today = datetime.date.today()\n",
    "\n",
    "sim_save_dir = SIM_DIR/f'{today.isoformat()}_YolkElasticityTest'\n",
    "\n",
    "try:\n",
    "    os.mkdir(sim_save_dir)\n",
    "except FileExistsError:\n",
    "    pass"
   ]
  },
  {
   "cell_type": "code",
   "execution_count": 3,
   "metadata": {},
   "outputs": [],
   "source": [
    "#%pdb"
   ]
  },
  {
   "cell_type": "code",
   "execution_count": 4,
   "metadata": {},
   "outputs": [],
   "source": [
    "class RadialTension(effectors.AbstractEffector):\n",
    "    \n",
    "    dimensions = units.line_tension\n",
    "    magnitude = 'radial_tension'\n",
    "    label = 'Apical basal tension'\n",
    "    element = 'vert'\n",
    "    specs = {'vert':{'is_active',\n",
    "             'height',\n",
    "             'radial_tension'}}\n",
    "\n",
    "    @staticmethod\n",
    "    def energy(eptm):\n",
    "        return eptm.vert_df.eval(\n",
    "            'height * radial_tension * is_active')\n",
    "         \n",
    "    @staticmethod\n",
    "    def gradient(eptm):\n",
    "        grad = height_grad(eptm) * to_nd(\n",
    "            eptm.vert_df.eval('radial_tension'), 3)\n",
    "        grad.columns = ['g'+c for c in eptm.coords]\n",
    "        return grad, None\n",
    "    \n",
    "    \n",
    "EllipsoidSModel = model_factory(\n",
    "    [\n",
    "    RadialTension,\n",
    "    VitellineElasticity,\n",
    "    effectors.LineTension,\n",
    "    effectors.FaceContractility,\n",
    "    effectors.FaceVolumeElasticity,\n",
    "    ], effectors.FaceAreaElasticity)\n",
    "\n",
    "\n",
    "EllipsoidBModel = model_factory(\n",
    "    [\n",
    "    RadialTension,\n",
    "    VitellineElasticity,\n",
    "    #effectors.LineTension,\n",
    "    effectors.FaceContractility,\n",
    "    effectors.FaceAreaElasticity,\n",
    "    effectors.CellVolumeElasticity,\n",
    "    ], effectors.FaceAreaElasticity)\n",
    "\n",
    "\n",
    "model = EllipsoidBModel\n",
    "geom = EllipsoidBGeometry"
   ]
  },
  {
   "cell_type": "code",
   "execution_count": 5,
   "metadata": {},
   "outputs": [],
   "source": [
    "def init():\n",
    "    dsets = hdf5.load_datasets('../data/hf5/ellipsoid_sheet_init.hf5',\n",
    "                               data_names=['vert', 'edge', 'face', 'cell'])\n",
    "\n",
    "    with open('../data/json/ellipsoid.json', 'r+') as fp:\n",
    "        specs = json.load(fp)\n",
    "\n",
    "    sheet = Sheet('ellipse', dsets, specs)\n",
    "\n",
    "    # Modify some initial value\n",
    "    sheet.settings['threshold_length'] = 1e-3\n",
    "    sheet.settings['vitelline_space'] = 0.2\n",
    "    sheet.vert_df['radial_tension'] = 0.\n",
    "    sheet.cell_df['prefered_vol'] = 4539601.384437251\n",
    "    \n",
    "    return sheet\n"
   ]
  },
  {
   "cell_type": "code",
   "execution_count": 6,
   "metadata": {},
   "outputs": [],
   "source": [
    "solver_kw = {'minimize': {'method': 'L-BFGS-B',\n",
    "                          'options': {'ftol': 1e-8,\n",
    "                                      'gtol': 1e-8}}}"
   ]
  },
  {
   "cell_type": "code",
   "execution_count": 7,
   "metadata": {},
   "outputs": [],
   "source": [
    "volume_dataframe = pd.DataFrame((np.array([0])[:, np.newaxis]), columns=[ 'elasticity'])\n"
   ]
  },
  {
   "cell_type": "code",
   "execution_count": 9,
   "metadata": {},
   "outputs": [],
   "source": [
    "\n",
    "volume = [1.e-11, 1.e-10, 1.e-9, 5.e-9, 1.e-8, 2.e-8, 3.e-8,  4.e-8, 7.e-8, 8.e-8,\n",
    "          1.e-7,2.e-7, 3.e-7, 4.e-7, 7.e-7, 1.e-6, 3.e-6, 1.e-5, 1.e-4, 1.e-3, 1.e-2, 1.e-1]\n",
    "\n",
    "for v in volume : \n",
    "    sheet=init()\n",
    "    print (v)\n",
    "    sheet.cell_df['vol_elasticity'] = v\n",
    "    \n",
    "    solver = Solver\n",
    "    res = solver.find_energy_min(sheet, geom, model, **solver_kw)\n",
    "    \n",
    "    tp = (v, sheet.cell_df.vol/sheet.cell_df.prefered_vol)\n",
    "    volume_dataframe.loc[v, 'elasticity'] = tp[1][0]\n",
    "    volume_dataframe.to_csv('resultats_yolk.csv')"
   ]
  },
  {
   "cell_type": "code",
   "execution_count": 15,
   "metadata": {},
   "outputs": [],
   "source": [
    " volume_dataframe = pd.DataFrame.from_csv('resultats_yolk.csv')\n",
    "fig = plt.figure()\n",
    "ax = fig.add_subplot(111)\n",
    "volume_dataframe = volume_dataframe.drop(volume_dataframe[volume_dataframe.elasticity == 0].index)\n",
    "ax.plot(volume_dataframe.index, (1-volume_dataframe.elasticity)*100, '.', color = 'black')\n",
    "\n",
    "ax.plot(3.e-6, (1-volume_dataframe.loc[3.e-6, 'elasticity'])*100, 'o',color = 'red')\n",
    "ax.axvline(x=3.e-6,ymin=0, ymax=0.08, linewidth=1,linestyle='--', color='red')\n",
    "ax.axhline(y=(1-volume_dataframe.loc[3.e-6, 'elasticity'])*100, xmin=0, xmax=0.55,\n",
    "           linewidth=1,linestyle='--', color='red')\n",
    "\n",
    "\n",
    "ax.set_xscale(\"log\")\n",
    "ax.set_xlabel('Yolk elasticity', size=12, family='serif')\n",
    "ax.set_ylabel('Compression (%)', size=12, family='serif')\n",
    "\n",
    "\n",
    "plt.savefig('../paper/yolkElasticity.svg', dpi = 300)\n",
    "\n"
   ]
  },
  {
   "cell_type": "code",
   "execution_count": null,
   "metadata": {},
   "outputs": [],
   "source": []
  },
  {
   "cell_type": "code",
   "execution_count": null,
   "metadata": {},
   "outputs": [],
   "source": []
  },
  {
   "cell_type": "code",
   "execution_count": null,
   "metadata": {},
   "outputs": [],
   "source": []
  }
 ],
 "metadata": {
  "anaconda-cloud": {},
  "kernelspec": {
   "display_name": "Python 3",
   "language": "python",
   "name": "python3"
  },
  "language_info": {
   "codemirror_mode": {
    "name": "ipython",
    "version": 3
   },
   "file_extension": ".py",
   "mimetype": "text/x-python",
   "name": "python",
   "nbconvert_exporter": "python",
   "pygments_lexer": "ipython3",
   "version": "3.6.3"
  },
  "widgets": {
   "state": {
    "8183ffe4462f409db908350a706d48c5": {
     "views": [
      {
       "cell_index": 21
      }
     ]
    }
   },
   "version": "1.2.0"
  }
 },
 "nbformat": 4,
 "nbformat_minor": 1
}
