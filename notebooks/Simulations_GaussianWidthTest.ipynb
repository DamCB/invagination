{
 "cells": [
  {
   "cell_type": "code",
   "execution_count": null,
   "metadata": {},
   "outputs": [],
   "source": [
    "# Import \n",
    "import os\n",
    "import time\n",
    "import datetime\n",
    "\n",
    "from pathlib import Path\n",
    "\n",
    "from invagination.ellipsoid import *\n",
    "from invagination.delamination import *\n",
    "\n",
    "import matplotlib.pyplot as plt\n",
    "%matplotlib inline"
   ]
  },
  {
   "cell_type": "code",
   "execution_count": null,
   "metadata": {},
   "outputs": [],
   "source": [
    "SIM_DIR = Path('/home/admin-suz/Documents/Simulations/')\n",
    "today = datetime.date.today()\n",
    "\n",
    "sim_save_dir = SIM_DIR/f'{today.isoformat()}'\n",
    "\n",
    "try:\n",
    "    os.mkdir(sim_save_dir)\n",
    "except FileExistsError:\n",
    "    pass"
   ]
  },
  {
   "cell_type": "code",
   "execution_count": null,
   "metadata": {},
   "outputs": [],
   "source": []
  },
  {
   "cell_type": "code",
   "execution_count": null,
   "metadata": {},
   "outputs": [],
   "source": [
    "# Create ellipsoid tissue \n",
    "sheet = initiate_ellipsoid('../data/hf5/ellipsoid_sheet_init.hf5',\n",
    "                         '../data/json/ellipsoid.json')\n",
    "\n",
    "delaminating_cells = sheet.face_df[sheet.face_df['is_mesoderm']].index\n",
    "relaxation_cells = sheet.face_df[sheet.face_df['is_relaxation']].index"
   ]
  },
  {
   "cell_type": "markdown",
   "metadata": {},
   "source": [
    "## Sequential execution "
   ]
  },
  {
   "cell_type": "code",
   "execution_count": null,
   "metadata": {
    "scrolled": true
   },
   "outputs": [],
   "source": [
    "from datetime import datetime\n",
    "\n",
    "global_start=datetime.now()\n",
    "print (\"start : \" + str(global_start))\n",
    "\n",
    "profile_width = [15,20,25,30,35,40]\n",
    "k = 0.19\n",
    "nb_iter = 30\n",
    "critical_area = 5\n",
    "\n",
    "radial_tension = [30]\n",
    "contractility_percent = [8]\n",
    "contractility_rate = [1+c/100 for c in contractility_percent]\n",
    "\n",
    "\n",
    "for pw in profile_width:\n",
    "    print ('pw : ' + str(pw))\n",
    "    delamination_process(sheet, contractility_rate[0], critical_area,\n",
    "                         radial_tension[0], nb_iter,\n",
    "                        pw, k, 0)\n",
    "        \n",
    "        \n",
    "global_end = datetime.now()\n",
    "print (\"end : \" + str(global_end))\n",
    "print ('Duree totale d execution : \\n\\t\\t')\n",
    "print (global_end-global_start)"
   ]
  },
  {
   "cell_type": "code",
   "execution_count": null,
   "metadata": {},
   "outputs": [],
   "source": []
  }
 ],
 "metadata": {
  "anaconda-cloud": {},
  "kernelspec": {
   "display_name": "Python 3",
   "language": "python",
   "name": "python3"
  },
  "language_info": {
   "codemirror_mode": {
    "name": "ipython",
    "version": 3
   },
   "file_extension": ".py",
   "mimetype": "text/x-python",
   "name": "python",
   "nbconvert_exporter": "python",
   "pygments_lexer": "ipython3",
   "version": "3.6.3"
  },
  "widgets": {
   "state": {
    "8183ffe4462f409db908350a706d48c5": {
     "views": [
      {
       "cell_index": 21
      }
     ]
    }
   },
   "version": "1.2.0"
  }
 },
 "nbformat": 4,
 "nbformat_minor": 1
}
