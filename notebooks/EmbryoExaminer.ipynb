{
 "cells": [
  {
   "cell_type": "code",
   "execution_count": 1,
   "metadata": {},
   "outputs": [],
   "source": [
    "import os\n",
    "import time\n",
    "\n",
    "import numpy as np\n",
    "import ipyvolume as ipv\n",
    "from pathlib import Path\n",
    "\n",
    "from tyssue import Sheet, config\n",
    "from tyssue.io import hdf5\n",
    "from tyssue.draw.ipv_draw import view_ipv\n",
    "from tyssue.draw.ipv_draw import sheet_view as ipv_sheet_view\n",
    "from tyssue.core.sheet import get_opposite\n",
    "from tyssue.draw.plt_draw import quick_edge_draw,sheet_view\n",
    "\n",
    "from invagination.toolbox import open_sheet\n",
    "\n",
    "import matplotlib.pyplot as plt\n",
    "%matplotlib inline\n",
    "\n",
    "SIM_DIR = Path('/home/admin-suz/Documents/Simulations')\n",
    "SIM_DIR = Path('/media/admin-suz/Sophie/2018/datas/Simulations/2018-05-29_principal_results/')\n",
    "\n",
    "old = None"
   ]
  },
  {
   "cell_type": "code",
   "execution_count": 2,
   "metadata": {},
   "outputs": [],
   "source": [
    "import datetime\n",
    "today = datetime.date.today()\n",
    "dirname = SIM_DIR/f'{today.isoformat()}'\n",
    "\n",
    "\n",
    "dirname = SIM_DIR/'1.08_contractility_5_critical_area_50_radialtension/'"
   ]
  },
  {
   "cell_type": "markdown",
   "metadata": {},
   "source": [
    "## 3D view"
   ]
  },
  {
   "cell_type": "code",
   "execution_count": 3,
   "metadata": {
    "scrolled": false
   },
   "outputs": [],
   "source": [
    "import ipyvolume.pylab as p3\n",
    "hfs = [f  for f in os.listdir(dirname)\n",
    "       if f.endswith('hf5')]\n",
    "hfs.sort(key=lambda x: os.path.getctime(os.path.join(dirname, x)))\n",
    "\n",
    "current = 'invagination_0030.hf5'\n",
    "ipv.clear()\n",
    "ipv.style.use('dark')\n",
    "\n",
    "\n",
    "\n",
    "dsets = hdf5.load_datasets(os.path.join(dirname, current),\n",
    "                               data_names=['vert', 'edge', 'face', 'cell'])\n",
    "\n",
    "specs = config.geometry.cylindrical_sheet()\n",
    "sheet = Sheet('ellipse', dsets, specs)\n",
    "\n",
    "\n",
    "mean_area = sheet.face_df[~sheet.face_df['is_mesoderm']].area.mean()\n",
    "rel_area = (sheet.face_df['area'] / mean_area)\n",
    "\n",
    "face_spec = {'color': rel_area, \n",
    "             'color_range': (0, 2),\n",
    "             'visible': True,\n",
    "             'epsilon': 0.1}\n",
    "fig, meshes = ipv_sheet_view(sheet, mode='3D', face=face_spec)\n",
    "\n",
    "\n",
    "fig.anglex = -0.7\n",
    "fig.angley = 0.2\n",
    "fig.anglez = 0.8\n",
    "ipv.show()\n"
   ]
  },
  {
   "cell_type": "markdown",
   "metadata": {},
   "source": [
    "## Ventral view of cells at the beginning"
   ]
  },
  {
   "cell_type": "code",
   "execution_count": 4,
   "metadata": {},
   "outputs": [],
   "source": [
    "draw_specs = config.draw.sheet_spec()\n",
    "sheet = open_sheet(dirname, 1)\n",
    "sheet = sheet.extract_bounding_box(y_boundary=[0, 100])\n",
    "fig, ax = plt.subplots()\n",
    "edge_mask = 'is_mesoderm'\n",
    "edge_mask_color_map='hot'\n",
    "coords=['z', 'x']\n",
    "\n",
    "list_edge_in_mesoderm = sheet.edge_df['face'].isin(\n",
    "    sheet.face_df[sheet.face_df[edge_mask]].index)\n",
    "\n",
    "cmap_edge = np.ones(sheet.edge_df.shape[0]) * list_edge_in_mesoderm/4\n",
    "sheet.edge_df['col'] = cmap_edge / (max(cmap_edge))/4\n",
    "\n",
    "cmap_edge = plt.cm.get_cmap(edge_mask_color_map, 4)\n",
    "edge_color_cmap = cmap_edge(sheet.edge_df.col)\n",
    "draw_specs['edge']['color'] = edge_color_cmap\n",
    "\n",
    "draw_specs['edge']['visible'] = True\n",
    "draw_specs['edge']['alpha'] = 0.7\n",
    "draw_specs['vert']['visible'] = False\n",
    "draw_specs['face']['visible'] = False\n",
    "draw_specs['face']['alpha'] = 0.6\n",
    "\n",
    "fig, ax = sheet_view(sheet, coords=coords, ax=ax, **draw_specs)\n",
    "ax.set_xlabel(coords[0])\n",
    "ax.set_ylabel(coords[1])\n",
    "\n",
    "fig.set_size_inches(9.25, 5.25, forward=True)\n",
    "\n",
    "\n",
    "ax.grid(False)\n",
    "#ax.get_xaxis().set_visible(False)\n",
    "#ax.get_yaxis().set_visible(False)\n",
    "#ax.axis('off')"
   ]
  },
  {
   "cell_type": "code",
   "execution_count": null,
   "metadata": {},
   "outputs": [],
   "source": []
  },
  {
   "cell_type": "code",
   "execution_count": null,
   "metadata": {},
   "outputs": [],
   "source": []
  },
  {
   "cell_type": "code",
   "execution_count": null,
   "metadata": {},
   "outputs": [],
   "source": []
  }
 ],
 "metadata": {
  "kernelspec": {
   "display_name": "Python 3",
   "language": "python",
   "name": "python3"
  },
  "language_info": {
   "codemirror_mode": {
    "name": "ipython",
    "version": 3
   },
   "file_extension": ".py",
   "mimetype": "text/x-python",
   "name": "python",
   "nbconvert_exporter": "python",
   "pygments_lexer": "ipython3",
   "version": "3.6.3"
  }
 },
 "nbformat": 4,
 "nbformat_minor": 2
}
