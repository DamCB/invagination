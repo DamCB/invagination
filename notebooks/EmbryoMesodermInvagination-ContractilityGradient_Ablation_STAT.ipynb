{
 "cells": [
  {
   "cell_type": "code",
   "execution_count": 3,
   "metadata": {},
   "outputs": [],
   "source": [
    "import os\n",
    "import time\n",
    "import itertools\n",
    "\n",
    "import numpy as np\n",
    "import pandas as pd\n",
    "\n",
    "import ipyvolume as ipv\n",
    "from pathlib import Path\n",
    "\n",
    "from tyssue import Sheet, config\n",
    "from tyssue.io import hdf5\n",
    "from tyssue.draw.ipv_draw import view_ipv\n",
    "from tyssue.core.sheet import get_opposite\n",
    "from tyssue.draw.plt_draw import quick_edge_draw\n",
    "from tyssue.dynamics import effectors, units\n",
    "from tyssue.solvers.sheet_vertex_solver import Solver\n",
    "\n",
    "\n",
    "from invagination.ellipsoid import EllipsoidGeometry as geom\n",
    "from invagination.ellipsoid import VitellineElasticity\n",
    "from invagination.plots import (mesoderm_position,\n",
    "                                panel_sagittal_view,\n",
    "                               save_3_axis_plot,\n",
    "                               save_ventral_plot)\n",
    "from invagination.toolbox import (open_sheet,\n",
    "                                  force_ratio,\n",
    "                                  define_depth,\n",
    "                                  define_time_max_depth,\n",
    "                                  define_time_depth_compare_to_vivo,\n",
    "                                 face_centered_patch)\n",
    "from tyssue.draw.ipv_draw import sheet_view\n",
    "import matplotlib as mpl\n",
    "import matplotlib.pyplot as plt\n",
    "import matplotlib.gridspec as gridspec\n",
    "import matplotlib.colors as colors\n",
    "import matplotlib.cm as cmx\n",
    "\n",
    "%matplotlib inline\n",
    "\n",
    "SIM_DIR = Path('/media/admin-suz/Sophie/2018/Papiers-EMT-Melanie/datas/')\n",
    "\n",
    "old = None\n",
    "\n",
    "import seaborn as sns"
   ]
  },
  {
   "cell_type": "code",
   "execution_count": 57,
   "metadata": {
    "scrolled": true
   },
   "outputs": [
    {
     "data": {
      "text/plain": [
       "['1.08_contractility_5_critical_area_30_radialtension_0',\n",
       " '1.08_contractility_5_critical_area_30_radialtension_1',\n",
       " '1.08_contractility_5_critical_area_30_radialtension_10',\n",
       " '1.08_contractility_5_critical_area_30_radialtension_11',\n",
       " '1.08_contractility_5_critical_area_30_radialtension_12',\n",
       " '1.08_contractility_5_critical_area_30_radialtension_13',\n",
       " '1.08_contractility_5_critical_area_30_radialtension_14',\n",
       " '1.08_contractility_5_critical_area_30_radialtension_15',\n",
       " '1.08_contractility_5_critical_area_30_radialtension_16',\n",
       " '1.08_contractility_5_critical_area_30_radialtension_17',\n",
       " '1.08_contractility_5_critical_area_30_radialtension_18',\n",
       " '1.08_contractility_5_critical_area_30_radialtension_19',\n",
       " '1.08_contractility_5_critical_area_30_radialtension_2',\n",
       " '1.08_contractility_5_critical_area_30_radialtension_3',\n",
       " '1.08_contractility_5_critical_area_30_radialtension_4',\n",
       " '1.08_contractility_5_critical_area_30_radialtension_5',\n",
       " '1.08_contractility_5_critical_area_30_radialtension_6',\n",
       " '1.08_contractility_5_critical_area_30_radialtension_7',\n",
       " '1.08_contractility_5_critical_area_30_radialtension_8',\n",
       " '1.08_contractility_5_critical_area_30_radialtension_9']"
      ]
     },
     "execution_count": 57,
     "metadata": {},
     "output_type": "execute_result"
    }
   ],
   "source": [
    "dirname1 = SIM_DIR/'2018-09-09_TEST0'\n",
    "list_dir1 = sorted(os.listdir(dirname1))\n",
    "dirname2 = SIM_DIR/'2018-09-09_TEST1'\n",
    "list_dir2 = sorted(os.listdir(dirname2))"
   ]
  },
  {
   "cell_type": "code",
   "execution_count": 63,
   "metadata": {},
   "outputs": [],
   "source": [
    "def define_depth_at_time_t (directory, t,  xmin=-20, xmax=20, ymin=-2, ymax=2):\n",
    "    depth_0 = define_depth(directory, 0, ['z', 'x'], xmin, xmax, ymin, ymax)\n",
    "    try:\n",
    "        depth = (depth_0 - define_depth(directory, t, ['z', 'x'],\n",
    "                                                 xmin, xmax, ymin, ymax))\n",
    "    except Exception:\n",
    "        depth = 0\n",
    "        warnings.warn(\n",
    "            'An error occured at time %i for directory %s', t, directory)\n",
    "    return depth\n",
    "\n",
    "data1_Ttime_depth_Ant = []\n",
    "data1_Ttime_depth_Centr = []\n",
    "for d in list_dir1:\n",
    "    data1_Ttime_depth_Ant.append(define_depth_at_time_t(os.path.join(dirname1, d), \n",
    "                                                        t=50, xmin=-80, xmax = -70))\n",
    "    data1_Ttime_depth_Centr.append(define_depth_at_time_t(os.path.join(dirname1, d), \n",
    "                                                        t=50, xmin=-5, xmax = 5))\n",
    "\n",
    "data2_Ttime_depth_Ant = []\n",
    "data2_Ttime_depth_Centr = []\n",
    "for d in list_dir2: \n",
    "    data2_Ttime_depth_Ant.append(define_depth_at_time_t(os.path.join(dirname2, d), \n",
    "                                                        t=50, xmin=-80, xmax = -70))\n",
    "    data2_Ttime_depth_Centr.append(define_depth_at_time_t(os.path.join(dirname2, d), \n",
    "                                                        t=50, xmin=-5, xmax = 5))\n",
    "\n",
    "    \n",
    "to_plot=[data1_Ttime_depth_Ant+ data2_Ttime_depth_Ant+\n",
    "         data1_Ttime_depth_Centr + data2_Ttime_depth_Centr]\n",
    "\n",
    "labels = [ 'depth']\n",
    "df = pd.DataFrame.from_records(to_plot, labels)\n",
    "df=df.transpose()\n",
    "df['position'] = pd.Series(['Ant']*40+ ['Centr']*40)\n",
    "df['state'] = pd.Series((['1-Ctl'] * 20 + ['2-Ablated'] * 20)*2)\n",
    "df['stage'] = pd.Series(['Full'] * 80)"
   ]
  },
  {
   "cell_type": "code",
   "execution_count": 23,
   "metadata": {},
   "outputs": [
    {
     "name": "stdout",
     "output_type": "stream",
     "text": [
      "20\n",
      "19\n",
      "18\n",
      "17\n",
      "16\n",
      "15\n",
      "14\n",
      "13\n",
      "12\n",
      "11\n",
      "10\n",
      "9\n",
      "8\n",
      "7\n",
      "6\n",
      "5\n",
      "4\n",
      "3\n",
      "2\n",
      "1\n"
     ]
    }
   ],
   "source": [
    "data1_full_depth_Ant=[]\n",
    "data1_cup_depth_Ant=[]\n",
    "data1_full_depth_Centr=[]\n",
    "data1_cup_depth_Centr=[]\n",
    "data1_full_depth_Ant_t=[]\n",
    "data1_cup_depth_Ant_t=[]\n",
    "data1_full_depth_Centr_t=[]\n",
    "data1_cup_depth_Centr_t=[]\n",
    "\n",
    "cpt = len(list_dir1)\n",
    "for d in list_dir1:\n",
    "    cpt = cpt-1\n",
    "    \n",
    "    t, depth = define_time_max_depth(os.path.join(dirname1, d), nb_t=200, xmin=-20, xmax = 20)\n",
    "    data1_full_depth_Centr.append(depth)\n",
    "    data1_full_depth_Centr_t.append(t)\n",
    "    t, depth = define_time_depth_compare_to_vivo(os.path.join(dirname1, d), nb_t=200, in_vivo_depth = 5,\n",
    "                                                 xmin=-20, xmax = 20)\n",
    "    data1_cup_depth_Centr.append(depth)\n",
    "    data1_cup_depth_Centr_t.append(t)\n",
    "    \n",
    "    \n",
    "    t, depth = define_time_max_depth(os.path.join(dirname1, d), nb_t=200, xmin=-100, xmax = -60)\n",
    "    data1_full_depth_Ant.append(depth)\n",
    "    data1_full_depth_Ant_t.append(t)\n",
    "    t, depth = define_time_depth_compare_to_vivo(os.path.join(dirname1, d), nb_t=200, in_vivo_depth = 5,\n",
    "                                                 xmin=-100, xmax = -60)\n",
    "    data1_cup_depth_Ant.append(depth)\n",
    "    data1_cup_depth_Ant_t.append(t)"
   ]
  },
  {
   "cell_type": "code",
   "execution_count": 24,
   "metadata": {},
   "outputs": [
    {
     "name": "stdout",
     "output_type": "stream",
     "text": [
      "20\n",
      "19\n",
      "18\n",
      "17\n",
      "16\n",
      "15\n",
      "14\n",
      "13\n",
      "12\n",
      "11\n",
      "10\n",
      "9\n",
      "8\n",
      "7\n",
      "6\n",
      "5\n",
      "4\n",
      "3\n",
      "2\n",
      "1\n"
     ]
    }
   ],
   "source": [
    "data2_full_depth_Ant=[]\n",
    "data2_cup_depth_Ant=[]\n",
    "data2_full_depth_Centr=[]\n",
    "data2_cup_depth_Centr=[]\n",
    "data2_full_depth_Ant_t=[]\n",
    "data2_cup_depth_Ant_t=[]\n",
    "data2_full_depth_Centr_t=[]\n",
    "data2_cup_depth_Centr_t=[]\n",
    "\n",
    "cpt = len(list_dir2)\n",
    "for d in list_dir2:\n",
    "    cpt = cpt-1\n",
    "    \n",
    "    t, depth = define_time_max_depth(os.path.join(dirname2, d), nb_t=200, xmin=-20, xmax = 20)\n",
    "    data2_full_depth_Centr.append(depth)\n",
    "    data2_full_depth_Centr_t.append(t)\n",
    "    t, depth = define_time_depth_compare_to_vivo(os.path.join(dirname2, d), nb_t=200, in_vivo_depth = 5,\n",
    "                                                xmin=-20, xmax = 20)\n",
    "    data2_cup_depth_Centr.append(depth)\n",
    "    data2_cup_depth_Centr_t.append(t)\n",
    "    \n",
    "    t, depth = define_time_max_depth(os.path.join(dirname2, d), nb_t=200, xmin=-100, xmax = -60)\n",
    "    data2_full_depth_Ant.append(depth)\n",
    "    data2_full_depth_Ant_t.append(t)\n",
    "    t, depth = define_time_depth_compare_to_vivo(os.path.join(dirname2, d), nb_t=200, in_vivo_depth = 5,\n",
    "                                                xmin=-100, xmax = -60)\n",
    "    data2_cup_depth_Ant.append(depth)\n",
    "    data2_cup_depth_Ant_t.append(t)"
   ]
  },
  {
   "cell_type": "code",
   "execution_count": 31,
   "metadata": {},
   "outputs": [],
   "source": [
    "to_plot=[data1_cup_depth_Ant_t+ data2_cup_depth_Ant_t+\n",
    "         data1_full_depth_Ant_t+ data2_full_depth_Ant_t + \n",
    "         data1_cup_depth_Centr_t+ data2_cup_depth_Centr_t+\n",
    "         data1_full_depth_Centr_t+ data2_full_depth_Centr_t, \n",
    "         \n",
    "         data1_cup_depth_Ant+ data2_cup_depth_Ant+\n",
    "         data1_full_depth_Ant+ data2_full_depth_Ant + \n",
    "         data1_cup_depth_Centr+ data2_cup_depth_Centr+\n",
    "         data1_full_depth_Centr+ data2_full_depth_Centr]\n",
    "\n",
    "labels = ['t', 'depth']\n",
    "df = pd.DataFrame.from_records(to_plot, labels)\n",
    "df=df.transpose()\n",
    "df['position'] = pd.Series(['Ant']*80 + ['Centr']*80)\n",
    "df['stage'] = pd.Series((['Cup'] * 40 + ['Full'] * 40)*2)\n",
    "df['state'] = pd.Series((['1-Ctl'] * 20 + ['2-Ablated'] * 20)*4)\n",
    "df.to_csv('test0VStest1.csv')"
   ]
  },
  {
   "cell_type": "code",
   "execution_count": 31,
   "metadata": {},
   "outputs": [],
   "source": [
    "#df = pd.read_csv('../test0VStest1.csv')\n",
    "df.to_csv('test0VStest1.csv')"
   ]
  },
  {
   "cell_type": "markdown",
   "metadata": {},
   "source": [
    "## Do Mann-Whitney or Wilcoxon test depending on experiments"
   ]
  },
  {
   "cell_type": "code",
   "execution_count": 65,
   "metadata": {},
   "outputs": [
    {
     "name": "stdout",
     "output_type": "stream",
     "text": [
      "Statistics=0.000, p=0.000000034\n",
      "Different distribution (reject H0)\n"
     ]
    }
   ],
   "source": [
    "# Mann-Whitney U test\n",
    "# comparaison de datas non pairées\n",
    "from scipy.stats import mannwhitneyu\n",
    "\n",
    "# compare samples\n",
    "stat, p = mannwhitneyu(df[(df['state']=='1-Ctl') & (df['stage']=='Full') & (df['position']=='Centr')]['depth'], \n",
    "                      df[(df['state']=='2-Ablated') & (df['stage']=='Full') & (df['position']=='Centr')]['depth'])\n",
    "print('Statistics=%.3f, p=%.9f' % (stat, p))\n",
    "# interpret\n",
    "alpha = 0.05\n",
    "if p > alpha:\n",
    "    print('Same distribution (fail to reject H0)')\n",
    "else:\n",
    "    print('Different distribution (reject H0)')\n"
   ]
  },
  {
   "cell_type": "code",
   "execution_count": 52,
   "metadata": {},
   "outputs": [
    {
     "name": "stdout",
     "output_type": "stream",
     "text": [
      "Statistics=0.000, p=0.0000886\n",
      "Different distribution (reject H0)\n",
      "Statistics=0.000, p=0.0000886\n",
      "Different distribution (reject H0)\n"
     ]
    }
   ],
   "source": [
    "# Wilcoxon signed-rank test\n",
    "# comparaison de datas pairées\n",
    "from scipy.stats import wilcoxon, ranksums\n",
    "\n",
    "# compare samples\n",
    "stat, p = wilcoxon(df[(df['state']=='1-Ctl') & (df['stage']=='Full') & (df['position']=='Ant')]['depth'],\n",
    "                    df[(df['state']=='1-Ctl') & (df['stage']=='Full') & (df['position']=='Centr')]['depth'])\n",
    "print('Statistics=%.3f, p=%.7f' % (stat, p))\n",
    "# interpret\n",
    "alpha = 0.05\n",
    "if p > alpha:\n",
    "    print('Same distribution (fail to reject H0)')\n",
    "else:\n",
    "    print('Different distribution (reject H0)')\n",
    "    \n",
    "    \n",
    "# compare samples\n",
    "stat, p = wilcoxon(df[(df['state']=='2-Ablated') & (df['stage']=='Full') & (df['position']=='Ant')]['depth'],\n",
    "                    df[(df['state']=='2-Ablated') & (df['stage']=='Full') & (df['position']=='Centr')]['depth'])\n",
    "print('Statistics=%.3f, p=%.7f' % (stat, p))\n",
    "# interpret\n",
    "alpha = 0.05\n",
    "if p > alpha:\n",
    "    print('Same distribution (fail to reject H0)')\n",
    "else:\n",
    "    print('Different distribution (reject H0)')\n",
    "\n",
    "    \n"
   ]
  },
  {
   "cell_type": "markdown",
   "metadata": {},
   "source": [
    "## Box plot"
   ]
  },
  {
   "cell_type": "code",
   "execution_count": 64,
   "metadata": {},
   "outputs": [
    {
     "name": "stderr",
     "output_type": "stream",
     "text": [
      "/home/admin-suz/anaconda3/lib/python3.6/site-packages/seaborn/categorical.py:490: FutureWarning: remove_na is deprecated and is a private function. Do not use.\n",
      "  box_data = remove_na(group_data[hue_mask])\n"
     ]
    },
    {
     "data": {
      "image/png": "[encoded data removed]",
      "text/plain": [
       "<matplotlib.figure.Figure at 0x7fbd110ea3c8>"
      ]
     },
     "metadata": {},
     "output_type": "display_data"
    }
   ],
   "source": [
    "sns.set(context='talk', style='whitegrid')\n",
    "fig = sns.factorplot(kind='box',        # Boxplot\n",
    "               y='depth',       # Y-axis - values for boxplot\n",
    "               x='stage',        # X-axis - first factor\n",
    "               hue='state',         # Second factor denoted by color\n",
    "               data=df[df['position']=='Centr'],        # Dataframe \n",
    "               size=8,            # Figure size (x100px)      \n",
    "               aspect=1.5,        # Width = size * aspect \n",
    "               legend_out=False,\n",
    "               palette='bwr') \n",
    "\n",
    "\n",
    "fig.savefig('../TEST0_VS_TEST1.svg',bbox_inches='tight')"
   ]
  },
  {
   "cell_type": "code",
   "execution_count": null,
   "metadata": {},
   "outputs": [],
   "source": []
  },
  {
   "cell_type": "code",
   "execution_count": 131,
   "metadata": {},
   "outputs": [
    {
     "name": "stderr",
     "output_type": "stream",
     "text": [
      "/home/admin-suz/anaconda3/lib/python3.6/site-packages/seaborn/categorical.py:490: FutureWarning:\n",
      "\n",
      "remove_na is deprecated and is a private function. Do not use.\n",
      "\n"
     ]
    },
    {
     "data": {
      "image/png": "[encoded data removed]",
      "text/plain": [
       "<matplotlib.figure.Figure at 0x7fd8e600f780>"
      ]
     },
     "metadata": {},
     "output_type": "display_data"
    }
   ],
   "source": [
    "fig, ax = plt.subplots()\n",
    "ax = sns.boxplot(x='stage', y='depth', hue='state', data= df, palette='seismic')\n",
    "fig.savefig('../boxplot_NO_Ablation2.svg',bbox_inches='tight')"
   ]
  },
  {
   "cell_type": "code",
   "execution_count": null,
   "metadata": {},
   "outputs": [],
   "source": []
  }
 ],
 "metadata": {
  "kernelspec": {
   "display_name": "Python 3",
   "language": "python",
   "name": "python3"
  },
  "language_info": {
   "codemirror_mode": {
    "name": "ipython",
    "version": 3
   },
   "file_extension": ".py",
   "mimetype": "text/x-python",
   "name": "python",
   "nbconvert_exporter": "python",
   "pygments_lexer": "ipython3",
   "version": "3.6.3"
  }
 },
 "nbformat": 4,
 "nbformat_minor": 2
}
